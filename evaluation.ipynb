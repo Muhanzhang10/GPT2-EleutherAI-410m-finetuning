{
 "cells": [
  {
   "cell_type": "code",
   "execution_count": 68,
   "metadata": {},
   "outputs": [],
   "source": [
    "from transformers import GPT2LMHeadModel, GPT2Tokenizer\n",
    "from transformers import AutoTokenizer, AutoModelForCausalLM\n",
    "from transformers import TextDataset\n",
    "\n",
    "import torch\n",
    "from tqdm import tqdm"
   ]
  },
  {
   "attachments": {},
   "cell_type": "markdown",
   "metadata": {},
   "source": [
    "# Perplexity"
   ]
  },
  {
   "attachments": {},
   "cell_type": "markdown",
   "metadata": {},
   "source": [
    "### Load dataset"
   ]
  },
  {
   "cell_type": "code",
   "execution_count": 69,
   "metadata": {},
   "outputs": [],
   "source": [
    "def load_dataset(file_path, tokenizer, block_size = 128):\n",
    "    dataset = TextDataset(\n",
    "        tokenizer = tokenizer,\n",
    "        file_path = file_path,\n",
    "        block_size = block_size,\n",
    "    )\n",
    "    return dataset"
   ]
  },
  {
   "attachments": {},
   "cell_type": "markdown",
   "metadata": {},
   "source": [
    "### Perplexity"
   ]
  },
  {
   "cell_type": "code",
   "execution_count": 70,
   "metadata": {},
   "outputs": [],
   "source": [
    "\n",
    "def perplexity(model, encodings):\n",
    "    nlls = []\n",
    "    for input_ids in encodings:\n",
    "        target_ids = input_ids.clone()\n",
    "        with torch.no_grad():\n",
    "            outputs = model(input_ids.unsqueeze(0), labels=target_ids.unsqueeze(0))\n",
    "            neg_log_likelihood = outputs.loss\n",
    "        nlls.append(neg_log_likelihood)\n",
    "    ppl = torch.exp(torch.stack(nlls).mean())\n",
    "    return ppl"
   ]
  },
  {
   "cell_type": "code",
   "execution_count": 71,
   "metadata": {},
   "outputs": [],
   "source": [
    "def perplexity_metric(base_model, model_id, train_file_path):\n",
    "    if base_model == 'gpt2':\n",
    "        model = GPT2LMHeadModel.from_pretrained(model_id)\n",
    "        tokenizer = GPT2Tokenizer.from_pretrained(model_id)   \n",
    "        encodings = load_dataset(train_file_path, tokenizer)\n",
    "        return perplexity(model, encodings)\n",
    "    elif base_model == \"EleutherAI/pythia-410m\":\n",
    "        tokenizer = AutoTokenizer.from_pretrained(model_id)\n",
    "        model = AutoModelForCausalLM.from_pretrained(model_id)\n",
    "        encodings = load_dataset(train_file_path, tokenizer)\n",
    "        return perplexity(model, encodings)"
   ]
  },
  {
   "cell_type": "code",
   "execution_count": 73,
   "metadata": {},
   "outputs": [
    {
     "name": "stderr",
     "output_type": "stream",
     "text": [
      "Special tokens have been added in the vocabulary, make sure the associated word embeddings are fine-tuned or trained.\n"
     ]
    }
   ],
   "source": [
    "model_id = \"gpt2\"\n",
    "model_id_articles_fine_tunned = \"gpt2_articles\"\n",
    "model_id_popsongs_fine_tunned = \"gpt2_popsongs\"\n",
    "base_model = \"gpt2\"\n",
    "train_file_path =  \"processed_data/topSongsLyrics1950_2019.txt\"\n",
    "\n",
    "gpt2_perplexity_baseline = perplexity_metric(base_model, model_id, train_file_path)\n",
    "gpt2_perplexity_articles = perplexity_metric(base_model, model_id_popsongs_fine_tunned, train_file_path)"
   ]
  },
  {
   "cell_type": "code",
   "execution_count": 74,
   "metadata": {},
   "outputs": [
    {
     "name": "stdout",
     "output_type": "stream",
     "text": [
      "tensor(51.7010)\n",
      "tensor(16.0382)\n"
     ]
    }
   ],
   "source": [
    "print(gpt2_perplexity_baseline)\n",
    "print(gpt2_perplexity_articles)"
   ]
  },
  {
   "cell_type": "code",
   "execution_count": 77,
   "metadata": {},
   "outputs": [
    {
     "name": "stderr",
     "output_type": "stream",
     "text": [
      "Special tokens have been added in the vocabulary, make sure the associated word embeddings are fine-tuned or trained.\n"
     ]
    }
   ],
   "source": [
    "model_id = \"EleutherAI/pythia-410m\"\n",
    "model_id_articles_fine_tunned = \"eleutherAI_articles\"\n",
    "model_id_popsongs_fine_tunned = \"eleutherAI_popsongs\"\n",
    "base_model = \"EleutherAI/pythia-410m\"\n",
    "train_file_path =  \"processed_data/topSongsLyrics1950_2019.txt\"\n",
    "\n",
    "#eleuther_perplexity_baseline = perplexity_metric(base_model, model_id, train_file_path)\n",
    "eleuther_perplexity_articles = perplexity_metric(base_model, model_id_articles_fine_tunned, train_file_path)\n",
    "#eleuther_perplexity_articles = perplexity_metric(base_model, model_id_popsongs_fine_tunned, train_file_path)"
   ]
  },
  {
   "cell_type": "code",
   "execution_count": 78,
   "metadata": {},
   "outputs": [
    {
     "name": "stdout",
     "output_type": "stream",
     "text": [
      "tensor(432.7373)\n"
     ]
    }
   ],
   "source": [
    "#print(eleuther_perplexity_baseline)\n",
    "#print(eleuther_perplexity_articles)\n",
    "print(eleuther_perplexity_articles)\n",
    "\n"
   ]
  },
  {
   "cell_type": "code",
   "execution_count": null,
   "metadata": {},
   "outputs": [],
   "source": []
  }
 ],
 "metadata": {
  "kernelspec": {
   "display_name": "Python 3",
   "language": "python",
   "name": "python3"
  },
  "language_info": {
   "codemirror_mode": {
    "name": "ipython",
    "version": 3
   },
   "file_extension": ".py",
   "mimetype": "text/x-python",
   "name": "python",
   "nbconvert_exporter": "python",
   "pygments_lexer": "ipython3",
   "version": "3.11.6"
  },
  "orig_nbformat": 4
 },
 "nbformat": 4,
 "nbformat_minor": 2
}
